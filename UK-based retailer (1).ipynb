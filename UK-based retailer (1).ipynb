{
 "cells": [
  {
   "cell_type": "code",
   "execution_count": 1,
   "id": "b258f322-6886-44e6-b2a3-b2d38341b459",
   "metadata": {},
   "outputs": [],
   "source": [
    "%load_ext sql\n",
    "import pandas as pd\n",
    "import sqlite3 \n",
    "import matplotlib.pyplot as plt\n",
    "from sqlalchemy import create_engine\n",
    "import prettytable\n",
    "\n",
    "prettytable.DEFAULT = 'DEFAULT'"
   ]
  },
  {
   "cell_type": "code",
   "execution_count": 3,
   "id": "97064960-7680-4137-b643-967dbb0d58dd",
   "metadata": {},
   "outputs": [
    {
     "name": "stdout",
     "output_type": "stream",
     "text": [
      "Database shape: (541909, 8)\n",
      "Columns: ['InvoiceNo', 'StockCode', 'Description', 'Quantity', 'InvoiceDate', 'UnitPrice', 'CustomerID', 'Country']\n",
      "\n",
      "first 5 rows:\n"
     ]
    },
    {
     "data": {
      "text/html": [
       "<div>\n",
       "<style scoped>\n",
       "    .dataframe tbody tr th:only-of-type {\n",
       "        vertical-align: middle;\n",
       "    }\n",
       "\n",
       "    .dataframe tbody tr th {\n",
       "        vertical-align: top;\n",
       "    }\n",
       "\n",
       "    .dataframe thead th {\n",
       "        text-align: right;\n",
       "    }\n",
       "</style>\n",
       "<table border=\"1\" class=\"dataframe\">\n",
       "  <thead>\n",
       "    <tr style=\"text-align: right;\">\n",
       "      <th></th>\n",
       "      <th>InvoiceNo</th>\n",
       "      <th>StockCode</th>\n",
       "      <th>Description</th>\n",
       "      <th>Quantity</th>\n",
       "      <th>InvoiceDate</th>\n",
       "      <th>UnitPrice</th>\n",
       "      <th>CustomerID</th>\n",
       "      <th>Country</th>\n",
       "    </tr>\n",
       "  </thead>\n",
       "  <tbody>\n",
       "    <tr>\n",
       "      <th>0</th>\n",
       "      <td>536365</td>\n",
       "      <td>85123A</td>\n",
       "      <td>WHITE HANGING HEART T-LIGHT HOLDER</td>\n",
       "      <td>6</td>\n",
       "      <td>2010-12-01 08:26:00</td>\n",
       "      <td>2.55</td>\n",
       "      <td>17850.0</td>\n",
       "      <td>United Kingdom</td>\n",
       "    </tr>\n",
       "    <tr>\n",
       "      <th>1</th>\n",
       "      <td>536365</td>\n",
       "      <td>71053</td>\n",
       "      <td>WHITE METAL LANTERN</td>\n",
       "      <td>6</td>\n",
       "      <td>2010-12-01 08:26:00</td>\n",
       "      <td>3.39</td>\n",
       "      <td>17850.0</td>\n",
       "      <td>United Kingdom</td>\n",
       "    </tr>\n",
       "    <tr>\n",
       "      <th>2</th>\n",
       "      <td>536365</td>\n",
       "      <td>84406B</td>\n",
       "      <td>CREAM CUPID HEARTS COAT HANGER</td>\n",
       "      <td>8</td>\n",
       "      <td>2010-12-01 08:26:00</td>\n",
       "      <td>2.75</td>\n",
       "      <td>17850.0</td>\n",
       "      <td>United Kingdom</td>\n",
       "    </tr>\n",
       "    <tr>\n",
       "      <th>3</th>\n",
       "      <td>536365</td>\n",
       "      <td>84029G</td>\n",
       "      <td>KNITTED UNION FLAG HOT WATER BOTTLE</td>\n",
       "      <td>6</td>\n",
       "      <td>2010-12-01 08:26:00</td>\n",
       "      <td>3.39</td>\n",
       "      <td>17850.0</td>\n",
       "      <td>United Kingdom</td>\n",
       "    </tr>\n",
       "    <tr>\n",
       "      <th>4</th>\n",
       "      <td>536365</td>\n",
       "      <td>84029E</td>\n",
       "      <td>RED WOOLLY HOTTIE WHITE HEART.</td>\n",
       "      <td>6</td>\n",
       "      <td>2010-12-01 08:26:00</td>\n",
       "      <td>3.39</td>\n",
       "      <td>17850.0</td>\n",
       "      <td>United Kingdom</td>\n",
       "    </tr>\n",
       "  </tbody>\n",
       "</table>\n",
       "</div>"
      ],
      "text/plain": [
       "  InvoiceNo StockCode                          Description  Quantity  \\\n",
       "0    536365    85123A   WHITE HANGING HEART T-LIGHT HOLDER         6   \n",
       "1    536365     71053                  WHITE METAL LANTERN         6   \n",
       "2    536365    84406B       CREAM CUPID HEARTS COAT HANGER         8   \n",
       "3    536365    84029G  KNITTED UNION FLAG HOT WATER BOTTLE         6   \n",
       "4    536365    84029E       RED WOOLLY HOTTIE WHITE HEART.         6   \n",
       "\n",
       "          InvoiceDate  UnitPrice  CustomerID         Country  \n",
       "0 2010-12-01 08:26:00       2.55     17850.0  United Kingdom  \n",
       "1 2010-12-01 08:26:00       3.39     17850.0  United Kingdom  \n",
       "2 2010-12-01 08:26:00       2.75     17850.0  United Kingdom  \n",
       "3 2010-12-01 08:26:00       3.39     17850.0  United Kingdom  \n",
       "4 2010-12-01 08:26:00       3.39     17850.0  United Kingdom  "
      ]
     },
     "execution_count": 3,
     "metadata": {},
     "output_type": "execute_result"
    }
   ],
   "source": [
    "df = pd.read_excel(\"Online Retail.xlsx\")\n",
    "\n",
    "print(f\"Database shape: {df.shape}\")\n",
    "print(f\"Columns: {df.columns.tolist()}\")\n",
    "print(f\"\\nfirst 5 rows:\")\n",
    "df.head(5)"
   ]
  },
  {
   "cell_type": "code",
   "execution_count": 9,
   "id": "498e4b84-db5e-451e-ad86-71009c52762c",
   "metadata": {},
   "outputs": [
    {
     "name": "stdout",
     "output_type": "stream",
     "text": [
      "Total Null Values: InvoiceNo           0\n",
      "StockCode           0\n",
      "Description      1454\n",
      "Quantity            0\n",
      "InvoiceDate         0\n",
      "UnitPrice           0\n",
      "CustomerID     135080\n",
      "Country             0\n",
      "dtype: int64\n"
     ]
    }
   ],
   "source": [
    "print(f\"Total Null Values: {df.isna().sum()}\")"
   ]
  },
  {
   "cell_type": "markdown",
   "id": "7f5d338f-8e19-43e4-9836-f8fbbab711a6",
   "metadata": {},
   "source": [
    "## Data Cleaning"
   ]
  },
  {
   "cell_type": "code",
   "execution_count": 11,
   "id": "145f69bf-ceab-4dcc-9df6-671753d8c82d",
   "metadata": {},
   "outputs": [],
   "source": [
    "df_clean = df.copy()"
   ]
  },
  {
   "cell_type": "code",
   "execution_count": 13,
   "id": "2c496345-65e4-4542-b1f2-3754dd0697b4",
   "metadata": {},
   "outputs": [],
   "source": [
    "df_clean = df.dropna(subset=['CustomerID'])"
   ]
  },
  {
   "cell_type": "code",
   "execution_count": 15,
   "id": "34968bc9-d65e-4dc7-a365-8d1949ffa2ba",
   "metadata": {},
   "outputs": [],
   "source": [
    "df_clean = df_clean[(df_clean['Quantity'] > 0) & (df_clean['UnitPrice'] >0)]"
   ]
  },
  {
   "cell_type": "code",
   "execution_count": 17,
   "id": "66ec8696-7c2f-4a43-9f61-f2fc5f517c12",
   "metadata": {},
   "outputs": [],
   "source": [
    "df_clean['CustomerID'] = df_clean['CustomerID'].astype(int)\n",
    "\n",
    "df_clean['InvoiceDate'] = pd.to_datetime(df_clean['InvoiceDate'])\n",
    "\n",
    "df_clean['Year'] = df_clean['InvoiceDate'].dt.year\n",
    "df_clean['Month'] = df_clean['InvoiceDate'].dt.month\n",
    "df_clean['Day'] = df_clean['InvoiceDate'].dt.day"
   ]
  },
  {
   "cell_type": "code",
   "execution_count": 19,
   "id": "8f6d8da3-b12a-4fce-beea-2975f09117f8",
   "metadata": {},
   "outputs": [
    {
     "name": "stdout",
     "output_type": "stream",
     "text": [
      "\n",
      "first 5 rows:\n"
     ]
    },
    {
     "data": {
      "text/html": [
       "<div>\n",
       "<style scoped>\n",
       "    .dataframe tbody tr th:only-of-type {\n",
       "        vertical-align: middle;\n",
       "    }\n",
       "\n",
       "    .dataframe tbody tr th {\n",
       "        vertical-align: top;\n",
       "    }\n",
       "\n",
       "    .dataframe thead th {\n",
       "        text-align: right;\n",
       "    }\n",
       "</style>\n",
       "<table border=\"1\" class=\"dataframe\">\n",
       "  <thead>\n",
       "    <tr style=\"text-align: right;\">\n",
       "      <th></th>\n",
       "      <th>InvoiceNo</th>\n",
       "      <th>StockCode</th>\n",
       "      <th>Description</th>\n",
       "      <th>Quantity</th>\n",
       "      <th>InvoiceDate</th>\n",
       "      <th>UnitPrice</th>\n",
       "      <th>CustomerID</th>\n",
       "      <th>Country</th>\n",
       "      <th>Year</th>\n",
       "      <th>Month</th>\n",
       "      <th>Day</th>\n",
       "      <th>TotalAmount</th>\n",
       "    </tr>\n",
       "  </thead>\n",
       "  <tbody>\n",
       "    <tr>\n",
       "      <th>0</th>\n",
       "      <td>536365</td>\n",
       "      <td>85123A</td>\n",
       "      <td>WHITE HANGING HEART T-LIGHT HOLDER</td>\n",
       "      <td>6</td>\n",
       "      <td>2010-12-01 08:26:00</td>\n",
       "      <td>2.55</td>\n",
       "      <td>17850</td>\n",
       "      <td>United Kingdom</td>\n",
       "      <td>2010</td>\n",
       "      <td>12</td>\n",
       "      <td>1</td>\n",
       "      <td>15.30</td>\n",
       "    </tr>\n",
       "    <tr>\n",
       "      <th>1</th>\n",
       "      <td>536365</td>\n",
       "      <td>71053</td>\n",
       "      <td>WHITE METAL LANTERN</td>\n",
       "      <td>6</td>\n",
       "      <td>2010-12-01 08:26:00</td>\n",
       "      <td>3.39</td>\n",
       "      <td>17850</td>\n",
       "      <td>United Kingdom</td>\n",
       "      <td>2010</td>\n",
       "      <td>12</td>\n",
       "      <td>1</td>\n",
       "      <td>20.34</td>\n",
       "    </tr>\n",
       "    <tr>\n",
       "      <th>2</th>\n",
       "      <td>536365</td>\n",
       "      <td>84406B</td>\n",
       "      <td>CREAM CUPID HEARTS COAT HANGER</td>\n",
       "      <td>8</td>\n",
       "      <td>2010-12-01 08:26:00</td>\n",
       "      <td>2.75</td>\n",
       "      <td>17850</td>\n",
       "      <td>United Kingdom</td>\n",
       "      <td>2010</td>\n",
       "      <td>12</td>\n",
       "      <td>1</td>\n",
       "      <td>22.00</td>\n",
       "    </tr>\n",
       "    <tr>\n",
       "      <th>3</th>\n",
       "      <td>536365</td>\n",
       "      <td>84029G</td>\n",
       "      <td>KNITTED UNION FLAG HOT WATER BOTTLE</td>\n",
       "      <td>6</td>\n",
       "      <td>2010-12-01 08:26:00</td>\n",
       "      <td>3.39</td>\n",
       "      <td>17850</td>\n",
       "      <td>United Kingdom</td>\n",
       "      <td>2010</td>\n",
       "      <td>12</td>\n",
       "      <td>1</td>\n",
       "      <td>20.34</td>\n",
       "    </tr>\n",
       "    <tr>\n",
       "      <th>4</th>\n",
       "      <td>536365</td>\n",
       "      <td>84029E</td>\n",
       "      <td>RED WOOLLY HOTTIE WHITE HEART.</td>\n",
       "      <td>6</td>\n",
       "      <td>2010-12-01 08:26:00</td>\n",
       "      <td>3.39</td>\n",
       "      <td>17850</td>\n",
       "      <td>United Kingdom</td>\n",
       "      <td>2010</td>\n",
       "      <td>12</td>\n",
       "      <td>1</td>\n",
       "      <td>20.34</td>\n",
       "    </tr>\n",
       "  </tbody>\n",
       "</table>\n",
       "</div>"
      ],
      "text/plain": [
       "  InvoiceNo StockCode                          Description  Quantity  \\\n",
       "0    536365    85123A   WHITE HANGING HEART T-LIGHT HOLDER         6   \n",
       "1    536365     71053                  WHITE METAL LANTERN         6   \n",
       "2    536365    84406B       CREAM CUPID HEARTS COAT HANGER         8   \n",
       "3    536365    84029G  KNITTED UNION FLAG HOT WATER BOTTLE         6   \n",
       "4    536365    84029E       RED WOOLLY HOTTIE WHITE HEART.         6   \n",
       "\n",
       "          InvoiceDate  UnitPrice  CustomerID         Country  Year  Month  \\\n",
       "0 2010-12-01 08:26:00       2.55       17850  United Kingdom  2010     12   \n",
       "1 2010-12-01 08:26:00       3.39       17850  United Kingdom  2010     12   \n",
       "2 2010-12-01 08:26:00       2.75       17850  United Kingdom  2010     12   \n",
       "3 2010-12-01 08:26:00       3.39       17850  United Kingdom  2010     12   \n",
       "4 2010-12-01 08:26:00       3.39       17850  United Kingdom  2010     12   \n",
       "\n",
       "   Day  TotalAmount  \n",
       "0    1        15.30  \n",
       "1    1        20.34  \n",
       "2    1        22.00  \n",
       "3    1        20.34  \n",
       "4    1        20.34  "
      ]
     },
     "execution_count": 19,
     "metadata": {},
     "output_type": "execute_result"
    }
   ],
   "source": [
    "df_clean['TotalAmount'] = df_clean['Quantity'] * df_clean['UnitPrice']\n",
    "\n",
    "print(f\"\\nfirst 5 rows:\")\n",
    "df_clean.head(5)"
   ]
  },
  {
   "cell_type": "markdown",
   "id": "5fbed9ac-a364-46ec-84d3-5a61f9039fbe",
   "metadata": {},
   "source": [
    "## SQL"
   ]
  },
  {
   "cell_type": "code",
   "execution_count": 21,
   "id": "eae62884-51c1-4e91-85dc-ac6b72c514d9",
   "metadata": {},
   "outputs": [
    {
     "name": "stdout",
     "output_type": "stream",
     "text": [
      "Connnection to Retail.db established successfully.\n"
     ]
    }
   ],
   "source": [
    "conn = sqlite3.connect('Retail.db')\n",
    "cursor = conn.cursor()\n",
    "print(\"Connnection to Retail.db established successfully.\")"
   ]
  },
  {
   "cell_type": "code",
   "execution_count": 23,
   "id": "27a45c5f-414c-4ac8-b2bc-ea139e14216a",
   "metadata": {},
   "outputs": [
    {
     "name": "stdout",
     "output_type": "stream",
     "text": [
      "Table created successfully\n"
     ]
    }
   ],
   "source": [
    "engine = create_engine(\"sqlite:///Retail.db\")\n",
    "df_clean.to_sql('transactions', engine, if_exists='replace', index=False)\n",
    "\n",
    "print(\"Table created successfully\")"
   ]
  },
  {
   "cell_type": "code",
   "execution_count": 25,
   "id": "7213683f-7cab-4a68-bf3c-42a25fe19506",
   "metadata": {},
   "outputs": [],
   "source": [
    "%sql sqlite:///Retail.db"
   ]
  },
  {
   "cell_type": "markdown",
   "id": "bf45c821-1dd5-4bc5-91f4-1bf450020d3b",
   "metadata": {},
   "source": [
    "## EDA"
   ]
  },
  {
   "cell_type": "code",
   "execution_count": 70,
   "id": "3efe8457-d76a-4c1a-94e5-f79ae8e1319e",
   "metadata": {},
   "outputs": [
    {
     "name": "stdout",
     "output_type": "stream",
     "text": [
      " * sqlite:///Retail.db\n",
      "Done.\n"
     ]
    },
    {
     "data": {
      "text/html": [
       "<table>\n",
       "    <thead>\n",
       "        <tr>\n",
       "            <th>UniqueCustomers</th>\n",
       "            <th>UniqueProducts</th>\n",
       "            <th>UniqueCountires</th>\n",
       "            <th>EarliestDate</th>\n",
       "            <th>LatestDate</th>\n",
       "        </tr>\n",
       "    </thead>\n",
       "    <tbody>\n",
       "        <tr>\n",
       "            <td>4338</td>\n",
       "            <td>3665</td>\n",
       "            <td>37</td>\n",
       "            <td>2010-12-01 08:26:00.000000</td>\n",
       "            <td>2011-12-09 12:50:00.000000</td>\n",
       "        </tr>\n",
       "    </tbody>\n",
       "</table>"
      ],
      "text/plain": [
       "[(4338, 3665, 37, '2010-12-01 08:26:00.000000', '2011-12-09 12:50:00.000000')]"
      ]
     },
     "execution_count": 70,
     "metadata": {},
     "output_type": "execute_result"
    }
   ],
   "source": [
    "%%sql\n",
    "SELECT COUNT(DISTINCT CustomerID) AS UniqueCustomers,\n",
    "COUNT(DISTINCT StockCode) AS UniqueProducts,\n",
    "COUNT(DISTINCT Country) AS UniqueCountires,\n",
    "MIN(InvoiceDate) AS EarliestDate,\n",
    "MAX(InvoiceDate) AS LatestDate\n",
    "FROM Transactions;"
   ]
  },
  {
   "cell_type": "markdown",
   "id": "452bf411-ff77-407d-b4e9-b93dfd44c060",
   "metadata": {},
   "source": [
    "### Revenue Analysis"
   ]
  },
  {
   "cell_type": "code",
   "execution_count": 64,
   "id": "63232259-eea4-4d72-bde0-7e7e3aa82487",
   "metadata": {},
   "outputs": [
    {
     "name": "stdout",
     "output_type": "stream",
     "text": [
      " * sqlite:///Retail.db\n",
      "Done.\n"
     ]
    },
    {
     "data": {
      "text/html": [
       "<table>\n",
       "    <thead>\n",
       "        <tr>\n",
       "            <th>TotalRevenue</th>\n",
       "            <th>AverageValue</th>\n",
       "            <th>RevenuePerCustomer</th>\n",
       "            <th>TotalTransactions</th>\n",
       "        </tr>\n",
       "    </thead>\n",
       "    <tbody>\n",
       "        <tr>\n",
       "            <td>8911407.9</td>\n",
       "            <td>22.4</td>\n",
       "            <td>2054.2664591977873</td>\n",
       "            <td>397884</td>\n",
       "        </tr>\n",
       "    </tbody>\n",
       "</table>"
      ],
      "text/plain": [
       "[(8911407.9, 22.4, 2054.2664591977873, 397884)]"
      ]
     },
     "execution_count": 64,
     "metadata": {},
     "output_type": "execute_result"
    }
   ],
   "source": [
    "%%sql \n",
    "SELECT ROUND(SUM(TotalAmount),2) AS TotalRevenue, \n",
    "ROUND(AVG(TotalAmount),2) AS AverageValue, \n",
    "ROUND(SUM(TotalAmount),2) / COUNT(DISTINCT CustomerID) AS RevenuePerCustomer, \n",
    "COUNT(*) AS TotalTransactions \n",
    "FROM Transactions;"
   ]
  },
  {
   "cell_type": "markdown",
   "id": "988befbf-82f3-4b4b-a0f6-634d6a8debe0",
   "metadata": {},
   "source": [
    "### Top Country Analysis"
   ]
  },
  {
   "cell_type": "code",
   "execution_count": 179,
   "id": "879e0eb3-7c49-4a27-b48c-cc8efc8c7d23",
   "metadata": {},
   "outputs": [
    {
     "name": "stdout",
     "output_type": "stream",
     "text": [
      " * sqlite:///Retail.db\n",
      "Done.\n"
     ]
    },
    {
     "data": {
      "text/html": [
       "<table>\n",
       "    <thead>\n",
       "        <tr>\n",
       "            <th>Country</th>\n",
       "            <th>Total</th>\n",
       "            <th>AverageSales</th>\n",
       "            <th>TotalTransactions</th>\n",
       "            <th>UniqueCustomers</th>\n",
       "        </tr>\n",
       "    </thead>\n",
       "    <tbody>\n",
       "        <tr>\n",
       "            <td>United Kingdom</td>\n",
       "            <td>7308391.55</td>\n",
       "            <td>20.63</td>\n",
       "            <td>16646</td>\n",
       "            <td>3920</td>\n",
       "        </tr>\n",
       "        <tr>\n",
       "            <td>Netherlands</td>\n",
       "            <td>285446.34</td>\n",
       "            <td>121.0</td>\n",
       "            <td>94</td>\n",
       "            <td>9</td>\n",
       "        </tr>\n",
       "        <tr>\n",
       "            <td>EIRE</td>\n",
       "            <td>265545.9</td>\n",
       "            <td>36.7</td>\n",
       "            <td>260</td>\n",
       "            <td>3</td>\n",
       "        </tr>\n",
       "        <tr>\n",
       "            <td>Germany</td>\n",
       "            <td>228867.14</td>\n",
       "            <td>25.32</td>\n",
       "            <td>457</td>\n",
       "            <td>94</td>\n",
       "        </tr>\n",
       "        <tr>\n",
       "            <td>France</td>\n",
       "            <td>209024.05</td>\n",
       "            <td>25.06</td>\n",
       "            <td>389</td>\n",
       "            <td>87</td>\n",
       "        </tr>\n",
       "        <tr>\n",
       "            <td>Australia</td>\n",
       "            <td>138521.31</td>\n",
       "            <td>117.19</td>\n",
       "            <td>57</td>\n",
       "            <td>9</td>\n",
       "        </tr>\n",
       "        <tr>\n",
       "            <td>Spain</td>\n",
       "            <td>61577.11</td>\n",
       "            <td>24.79</td>\n",
       "            <td>90</td>\n",
       "            <td>30</td>\n",
       "        </tr>\n",
       "        <tr>\n",
       "            <td>Switzerland</td>\n",
       "            <td>56443.95</td>\n",
       "            <td>30.66</td>\n",
       "            <td>51</td>\n",
       "            <td>21</td>\n",
       "        </tr>\n",
       "        <tr>\n",
       "            <td>Belgium</td>\n",
       "            <td>41196.34</td>\n",
       "            <td>20.28</td>\n",
       "            <td>98</td>\n",
       "            <td>25</td>\n",
       "        </tr>\n",
       "        <tr>\n",
       "            <td>Sweden</td>\n",
       "            <td>38378.33</td>\n",
       "            <td>85.1</td>\n",
       "            <td>36</td>\n",
       "            <td>8</td>\n",
       "        </tr>\n",
       "    </tbody>\n",
       "</table>"
      ],
      "text/plain": [
       "[('United Kingdom', 7308391.55, 20.63, 16646, 3920),\n",
       " ('Netherlands', 285446.34, 121.0, 94, 9),\n",
       " ('EIRE', 265545.9, 36.7, 260, 3),\n",
       " ('Germany', 228867.14, 25.32, 457, 94),\n",
       " ('France', 209024.05, 25.06, 389, 87),\n",
       " ('Australia', 138521.31, 117.19, 57, 9),\n",
       " ('Spain', 61577.11, 24.79, 90, 30),\n",
       " ('Switzerland', 56443.95, 30.66, 51, 21),\n",
       " ('Belgium', 41196.34, 20.28, 98, 25),\n",
       " ('Sweden', 38378.33, 85.1, 36, 8)]"
      ]
     },
     "execution_count": 179,
     "metadata": {},
     "output_type": "execute_result"
    }
   ],
   "source": [
    "CountrySales = %sql SELECT Country, ROUND(SUM(TotalAmount),2) AS Total, ROUND(AVG(TotalAmount),2) AS AverageSales, COUNT(DISTINCT InvoiceNo) AS TotalTransactions, COUNT(DISTINCT CustomerID) AS UniqueCustomers FROM transactions GROUP BY Country ORDER BY Total DESC LIMIT 10;\n",
    "CountrySales"
   ]
  },
  {
   "cell_type": "code",
   "execution_count": 181,
   "id": "968b73aa-53a9-4c03-a481-34c1e49d987f",
   "metadata": {},
   "outputs": [
    {
     "data": {
      "image/png": "[encoded data removed]",
      "text/plain": [
       "<Figure size 640x480 with 1 Axes>"
      ]
     },
     "metadata": {},
     "output_type": "display_data"
    }
   ],
   "source": [
    "CountryDf = CountrySales.DataFrame()\n",
    "\n",
    "plt.bar(CountryDf['Country'], CountryDf['Total'])\n",
    "plt.xlabel('Country')\n",
    "plt.ylabel('Total Sales')\n",
    "plt.title('Top 10 Countries by Total Sales')\n",
    "plt.xticks(rotation = 45)\n",
    "plt.tight_layout()\n",
    "plt.show()"
   ]
  },
  {
   "cell_type": "markdown",
   "id": "0cf2f42a-9bd8-40e0-93bd-cef0adc82afa",
   "metadata": {},
   "source": [
    "### Monthly Sales Trend"
   ]
  },
  {
   "cell_type": "code",
   "execution_count": 148,
   "id": "b015e604-640c-4770-8b7c-e2791656364a",
   "metadata": {},
   "outputs": [
    {
     "name": "stdout",
     "output_type": "stream",
     "text": [
      " * sqlite:///Retail.db\n",
      "Done.\n"
     ]
    },
    {
     "data": {
      "text/html": [
       "<table>\n",
       "    <thead>\n",
       "        <tr>\n",
       "            <th>Year</th>\n",
       "            <th>Month</th>\n",
       "            <th>MonthName</th>\n",
       "            <th>TotalTransactions</th>\n",
       "            <th>MonthlySales</th>\n",
       "            <th>ActiveCustomers</th>\n",
       "        </tr>\n",
       "    </thead>\n",
       "    <tbody>\n",
       "        <tr>\n",
       "            <td>2010</td>\n",
       "            <td>12</td>\n",
       "            <td>DECEMBER</td>\n",
       "            <td>26157</td>\n",
       "            <td>572713.89</td>\n",
       "            <td>885</td>\n",
       "        </tr>\n",
       "        <tr>\n",
       "            <td>2011</td>\n",
       "            <td>1</td>\n",
       "            <td>January</td>\n",
       "            <td>21229</td>\n",
       "            <td>569445.04</td>\n",
       "            <td>741</td>\n",
       "        </tr>\n",
       "        <tr>\n",
       "            <td>2011</td>\n",
       "            <td>2</td>\n",
       "            <td>February</td>\n",
       "            <td>19927</td>\n",
       "            <td>447137.35</td>\n",
       "            <td>758</td>\n",
       "        </tr>\n",
       "        <tr>\n",
       "            <td>2011</td>\n",
       "            <td>3</td>\n",
       "            <td>March</td>\n",
       "            <td>27175</td>\n",
       "            <td>595500.76</td>\n",
       "            <td>974</td>\n",
       "        </tr>\n",
       "        <tr>\n",
       "            <td>2011</td>\n",
       "            <td>4</td>\n",
       "            <td>April</td>\n",
       "            <td>22642</td>\n",
       "            <td>469200.36</td>\n",
       "            <td>856</td>\n",
       "        </tr>\n",
       "        <tr>\n",
       "            <td>2011</td>\n",
       "            <td>5</td>\n",
       "            <td>May</td>\n",
       "            <td>28320</td>\n",
       "            <td>678594.56</td>\n",
       "            <td>1056</td>\n",
       "        </tr>\n",
       "        <tr>\n",
       "            <td>2011</td>\n",
       "            <td>6</td>\n",
       "            <td>June</td>\n",
       "            <td>27185</td>\n",
       "            <td>661213.69</td>\n",
       "            <td>991</td>\n",
       "        </tr>\n",
       "        <tr>\n",
       "            <td>2011</td>\n",
       "            <td>7</td>\n",
       "            <td>July</td>\n",
       "            <td>26825</td>\n",
       "            <td>600091.01</td>\n",
       "            <td>949</td>\n",
       "        </tr>\n",
       "        <tr>\n",
       "            <td>2011</td>\n",
       "            <td>8</td>\n",
       "            <td>August</td>\n",
       "            <td>27007</td>\n",
       "            <td>645343.9</td>\n",
       "            <td>935</td>\n",
       "        </tr>\n",
       "        <tr>\n",
       "            <td>2011</td>\n",
       "            <td>9</td>\n",
       "            <td>September</td>\n",
       "            <td>40028</td>\n",
       "            <td>952838.38</td>\n",
       "            <td>1266</td>\n",
       "        </tr>\n",
       "        <tr>\n",
       "            <td>2011</td>\n",
       "            <td>10</td>\n",
       "            <td>October</td>\n",
       "            <td>49554</td>\n",
       "            <td>1039318.79</td>\n",
       "            <td>1364</td>\n",
       "        </tr>\n",
       "        <tr>\n",
       "            <td>2011</td>\n",
       "            <td>11</td>\n",
       "            <td>November</td>\n",
       "            <td>64531</td>\n",
       "            <td>1161817.38</td>\n",
       "            <td>1664</td>\n",
       "        </tr>\n",
       "        <tr>\n",
       "            <td>2011</td>\n",
       "            <td>12</td>\n",
       "            <td>DECEMBER</td>\n",
       "            <td>17304</td>\n",
       "            <td>518192.79</td>\n",
       "            <td>615</td>\n",
       "        </tr>\n",
       "    </tbody>\n",
       "</table>"
      ],
      "text/plain": [
       "[(2010, 12, 'DECEMBER', 26157, 572713.89, 885),\n",
       " (2011, 1, 'January', 21229, 569445.04, 741),\n",
       " (2011, 2, 'February', 19927, 447137.35, 758),\n",
       " (2011, 3, 'March', 27175, 595500.76, 974),\n",
       " (2011, 4, 'April', 22642, 469200.36, 856),\n",
       " (2011, 5, 'May', 28320, 678594.56, 1056),\n",
       " (2011, 6, 'June', 27185, 661213.69, 991),\n",
       " (2011, 7, 'July', 26825, 600091.01, 949),\n",
       " (2011, 8, 'August', 27007, 645343.9, 935),\n",
       " (2011, 9, 'September', 40028, 952838.38, 1266),\n",
       " (2011, 10, 'October', 49554, 1039318.79, 1364),\n",
       " (2011, 11, 'November', 64531, 1161817.38, 1664),\n",
       " (2011, 12, 'DECEMBER', 17304, 518192.79, 615)]"
      ]
     },
     "execution_count": 148,
     "metadata": {},
     "output_type": "execute_result"
    }
   ],
   "source": [
    "MonthlySales = %sql SELECT Year, Month, CASE Month WHEN 1 THEN 'January' WHEN 2 THEN 'February' WHEN 3 THEN 'March' WHEN 4 THEN 'April' WHEN 5 THEN 'May' WHEN 6 THEN 'June' WHEN 7 THEN 'July' WHEN 8 THEN 'August' WHEN 9 THEN 'September' WHEN 10 THEN 'October' WHEN 11 THEN 'November'  WHEN 12 THEN 'DECEMBER' END AS MonthName, COUNT(*) AS TotalTransactions, ROUND(SUM(TotalAmount),2) AS MonthlySales, COUNT(DISTINCT CustomerID) AS ActiveCustomers FROM Transactions GROUP BY Year, Month ORDER BY Year, Month\n",
    "MonthlySales"
   ]
  },
  {
   "cell_type": "code",
   "execution_count": 154,
   "id": "04109759-966a-4069-bb01-a09483ff51b7",
   "metadata": {},
   "outputs": [
    {
     "data": {
      "image/png": "[encoded data removed]",
      "text/plain": [
       "<Figure size 640x480 with 1 Axes>"
      ]
     },
     "metadata": {},
     "output_type": "display_data"
    }
   ],
   "source": [
    "MonthDf = MonthlySales.DataFrame()\n",
    "MonthDf['YearMonth'] = MonthDf['Year'].astype(str)+'-'+MonthDf['Month'].astype(str).str.zfill(2)\n",
    "\n",
    "\n",
    "plt.plot(MonthDf['YearMonth'], MonthDf['MonthlySales'], marker = 'o', color = 'b')\n",
    "plt.xlabel('Year-Month')\n",
    "plt.ylabel('Monthy Sales')\n",
    "plt.title('Monthly Sales Trend')\n",
    "plt.tight_layout()\n",
    "plt.xticks(rotation = 45)\n",
    "plt.show()"
   ]
  },
  {
   "cell_type": "markdown",
   "id": "f2b0be39-e66d-4467-9ae8-d182db18562e",
   "metadata": {},
   "source": [
    "### Product Analysis\n"
   ]
  },
  {
   "cell_type": "code",
   "execution_count": 183,
   "id": "bb12b18a-a1d9-4a80-b800-24c0b6f733d6",
   "metadata": {},
   "outputs": [
    {
     "name": "stdout",
     "output_type": "stream",
     "text": [
      " * sqlite:///Retail.db\n",
      "Done.\n"
     ]
    },
    {
     "data": {
      "text/html": [
       "<table>\n",
       "    <thead>\n",
       "        <tr>\n",
       "            <th>StockCode</th>\n",
       "            <th>Description</th>\n",
       "            <th>TotalSold</th>\n",
       "            <th>TotalRevenue</th>\n",
       "            <th>AvgPrice</th>\n",
       "            <th>UniqueCustomers</th>\n",
       "            <th>TransactionFrequency</th>\n",
       "        </tr>\n",
       "    </thead>\n",
       "    <tbody>\n",
       "        <tr>\n",
       "            <td>23843</td>\n",
       "            <td>PAPER CRAFT , LITTLE BIRDIE</td>\n",
       "            <td>80995</td>\n",
       "            <td>168469.6</td>\n",
       "            <td>168469.6</td>\n",
       "            <td>1</td>\n",
       "            <td>1</td>\n",
       "        </tr>\n",
       "        <tr>\n",
       "            <td>22423</td>\n",
       "            <td>REGENCY CAKESTAND 3 TIER</td>\n",
       "            <td>12402</td>\n",
       "            <td>142592.95</td>\n",
       "            <td>82.76</td>\n",
       "            <td>881</td>\n",
       "            <td>1723</td>\n",
       "        </tr>\n",
       "        <tr>\n",
       "            <td>85123A</td>\n",
       "            <td>WHITE HANGING HEART T-LIGHT HOLDER</td>\n",
       "            <td>36725</td>\n",
       "            <td>100448.15</td>\n",
       "            <td>49.53</td>\n",
       "            <td>856</td>\n",
       "            <td>2028</td>\n",
       "        </tr>\n",
       "        <tr>\n",
       "            <td>85099B</td>\n",
       "            <td>JUMBO BAG RED RETROSPOT</td>\n",
       "            <td>46181</td>\n",
       "            <td>85220.78</td>\n",
       "            <td>52.67</td>\n",
       "            <td>635</td>\n",
       "            <td>1618</td>\n",
       "        </tr>\n",
       "        <tr>\n",
       "            <td>23166</td>\n",
       "            <td>MEDIUM CERAMIC TOP STORAGE JAR</td>\n",
       "            <td>77916</td>\n",
       "            <td>81416.73</td>\n",
       "            <td>411.2</td>\n",
       "            <td>138</td>\n",
       "            <td>198</td>\n",
       "        </tr>\n",
       "        <tr>\n",
       "            <td>POST</td>\n",
       "            <td>POSTAGE</td>\n",
       "            <td>3120</td>\n",
       "            <td>77803.96</td>\n",
       "            <td>70.8</td>\n",
       "            <td>331</td>\n",
       "            <td>1099</td>\n",
       "        </tr>\n",
       "        <tr>\n",
       "            <td>47566</td>\n",
       "            <td>PARTY BUNTING</td>\n",
       "            <td>15291</td>\n",
       "            <td>68844.33</td>\n",
       "            <td>49.32</td>\n",
       "            <td>708</td>\n",
       "            <td>1396</td>\n",
       "        </tr>\n",
       "        <tr>\n",
       "            <td>84879</td>\n",
       "            <td>ASSORTED COLOUR BIRD ORNAMENT</td>\n",
       "            <td>35362</td>\n",
       "            <td>56580.34</td>\n",
       "            <td>40.18</td>\n",
       "            <td>678</td>\n",
       "            <td>1408</td>\n",
       "        </tr>\n",
       "        <tr>\n",
       "            <td>M</td>\n",
       "            <td>Manual</td>\n",
       "            <td>7173</td>\n",
       "            <td>53779.93</td>\n",
       "            <td>189.37</td>\n",
       "            <td>197</td>\n",
       "            <td>284</td>\n",
       "        </tr>\n",
       "        <tr>\n",
       "            <td>23084</td>\n",
       "            <td>RABBIT NIGHT LIGHT</td>\n",
       "            <td>27202</td>\n",
       "            <td>51346.2</td>\n",
       "            <td>60.98</td>\n",
       "            <td>450</td>\n",
       "            <td>842</td>\n",
       "        </tr>\n",
       "    </tbody>\n",
       "</table>"
      ],
      "text/plain": [
       "[('23843', 'PAPER CRAFT , LITTLE BIRDIE', 80995, 168469.6, 168469.6, 1, 1),\n",
       " ('22423', 'REGENCY CAKESTAND 3 TIER', 12402, 142592.95, 82.76, 881, 1723),\n",
       " ('85123A', 'WHITE HANGING HEART T-LIGHT HOLDER', 36725, 100448.15, 49.53, 856, 2028),\n",
       " ('85099B', 'JUMBO BAG RED RETROSPOT', 46181, 85220.78, 52.67, 635, 1618),\n",
       " ('23166', 'MEDIUM CERAMIC TOP STORAGE JAR', 77916, 81416.73, 411.2, 138, 198),\n",
       " ('POST', 'POSTAGE', 3120, 77803.96, 70.8, 331, 1099),\n",
       " ('47566', 'PARTY BUNTING', 15291, 68844.33, 49.32, 708, 1396),\n",
       " ('84879', 'ASSORTED COLOUR BIRD ORNAMENT', 35362, 56580.34, 40.18, 678, 1408),\n",
       " ('M', 'Manual', 7173, 53779.93, 189.37, 197, 284),\n",
       " ('23084', 'RABBIT NIGHT LIGHT', 27202, 51346.2, 60.98, 450, 842)]"
      ]
     },
     "execution_count": 183,
     "metadata": {},
     "output_type": "execute_result"
    }
   ],
   "source": [
    "Product = %sql SELECT StockCode, Description, SUM(Quantity) AS TotalSold, ROUND(SUM(TotalAmount),2) AS TotalRevenue , ROUND(AVG(TotalAmount),2) AS AvgPrice, COUNT(DISTINCT CustomerID) AS UniqueCustomers, COUNT(*) AS TransactionFrequency FROM Transactions GROUP BY StockCode, Description ORDER BY TotalRevenue DESC LIMIT 10;\n",
    "Product"
   ]
  },
  {
   "cell_type": "code",
   "execution_count": 193,
   "id": "d94c867c-b348-4122-8e14-cf5754274c89",
   "metadata": {},
   "outputs": [
    {
     "data": {
      "image/png": "[encoded data removed]",
      "text/plain": [
       "<Figure size 640x480 with 1 Axes>"
      ]
     },
     "metadata": {},
     "output_type": "display_data"
    }
   ],
   "source": [
    "ProductDf = Product.DataFrame()\n",
    "\n",
    "plt.barh(range(len(ProductDf)), ProductDf['TotalRevenue'])\n",
    "plt.yticks(range(len(ProductDf)), \n",
    "           [desc[:40] + '...' if len(desc) > 40 else desc for desc in ProductDf['Description']])\n",
    "plt.xlabel('Total Revenue')\n",
    "plt.title('Top 10 Products by Revenue')\n",
    "plt.gca().invert_yaxis()\n",
    "plt.tight_layout()\n",
    "plt.show()"
   ]
  }
 ],
 "metadata": {
  "kernelspec": {
   "display_name": "Python 3 (ipykernel)",
   "language": "python",
   "name": "python3"
  },
  "language_info": {
   "codemirror_mode": {
    "name": "ipython",
    "version": 3
   },
   "file_extension": ".py",
   "mimetype": "text/x-python",
   "name": "python",
   "nbconvert_exporter": "python",
   "pygments_lexer": "ipython3",
   "version": "3.12.4"
  }
 },
 "nbformat": 4,
 "nbformat_minor": 5
}
